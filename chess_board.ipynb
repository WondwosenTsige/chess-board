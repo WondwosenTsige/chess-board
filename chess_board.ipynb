{
 "cells": [
  {
   "cell_type": "code",
   "execution_count": 30,
   "source": [
    "import numpy as np\n",
    "import matplotlib.pyplot as plt"
   ],
   "outputs": [],
   "metadata": {}
  },
  {
   "cell_type": "code",
   "execution_count": 33,
   "source": [
    "class Board:\n",
    "    def __init__(self):\n",
    "        self.grid = np.zeros((8,8,3))\n",
    "\n",
    "        self.grid[1::2, ::2] = 1\n",
    "        self.grid[::2, 1::2] = 1\n",
    "\n",
    "        self.blue_row = None\n",
    "        self.blue_column = None\n",
    "        self.red_row = None\n",
    "        self.red_column = None\n",
    "\n",
    "    def add_red(self, row, col):\n",
    "        self.red_row = row\n",
    "        self.red_column = col\n",
    "\n",
    "        self.grid[row][col] = (1,0,0)\n",
    "\n",
    "    def add_blue(self, row, col):\n",
    "        self.blue_row = row\n",
    "        self.blue_column = col\n",
    "\n",
    "        self.grid[row][col] = (0,0,1)\n",
    "\n",
    "    def render(self):\n",
    "        plt.imshow(self.grid)\n",
    "\n",
    "    def is_under_attack(self):\n",
    "        if self.blue_row == self.red_row or self.blue_column == self.red_column:\n",
    "            return True\n",
    "            \n",
    "        if abs(self.red_column - self.blue_column) == abs(self.red_row - self.blue_row):\n",
    "            return True\n",
    "        return False"
   ],
   "outputs": [],
   "metadata": {}
  },
  {
   "cell_type": "code",
   "execution_count": 59,
   "source": [
    "chess_board = Board()\n",
    "chess_board.add_blue(0,5)\n",
    "chess_board.add_red(7,0)\n",
    "chess_board.render()\n",
    "print(chess_board.is_under_attack())"
   ],
   "outputs": [
    {
     "output_type": "stream",
     "name": "stdout",
     "text": [
      "False\n"
     ]
    },
    {
     "output_type": "display_data",
     "data": {
      "text/plain": [
       "<Figure size 432x288 with 1 Axes>"
      ],
      "image/png": "[encoded data removed]"
     },
     "metadata": {
      "needs_background": "light"
     }
    }
   ],
   "metadata": {}
  },
  {
   "cell_type": "code",
   "execution_count": 50,
   "source": [
    "# test if queens on same row returns “under attack”\n",
    "chess_board.add_red(4,5)\n",
    "chess_board.add_blue(4,7)\n",
    "assert chess_board.is_under_attack()\n",
    "print('********* QUEEN UNDER ATTACK ********')"
   ],
   "outputs": [
    {
     "output_type": "stream",
     "name": "stdout",
     "text": [
      "********* QUEEN UNDER ATTACK ********\n"
     ]
    }
   ],
   "metadata": {}
  },
  {
   "cell_type": "code",
   "execution_count": 53,
   "source": [
    "# test if queens on same column returns “under attack”\n",
    "chess_board.add_red(2,7)\n",
    "chess_board.add_blue(3,7)\n",
    "assert chess_board.is_under_attack()\n",
    "print('********* QUEEN UNDER ATTACK ********')"
   ],
   "outputs": [
    {
     "output_type": "stream",
     "name": "stdout",
     "text": [
      "********* QUEEN UNDER ATTACK ********\n"
     ]
    }
   ],
   "metadata": {}
  },
  {
   "cell_type": "code",
   "execution_count": 56,
   "source": [
    "# test if queens on same diagonal returns “under attack”\n",
    "chess_board.add_red(1,6)\n",
    "chess_board.add_blue(6,1)\n",
    "assert chess_board.is_under_attack()\n",
    "print('********* QUEEN UNDER ATTACK ********')"
   ],
   "outputs": [
    {
     "output_type": "stream",
     "name": "stdout",
     "text": [
      "********* QUEEN UNDER ATTACK ********\n"
     ]
    }
   ],
   "metadata": {}
  },
  {
   "cell_type": "code",
   "execution_count": 58,
   "source": [
    "# test if queens on any other coordinates returns “not under attack”\n",
    "chess_board.add_red(7,4)\n",
    "chess_board.add_blue(0,3)\n",
    "assert not chess_board.is_under_attack()\n",
    "print('********* QUEEN NOT UNDER ATTACK ********')"
   ],
   "outputs": [
    {
     "output_type": "stream",
     "name": "stdout",
     "text": [
      "********* QUEEN NOT UNDER ATTACK ********\n"
     ]
    }
   ],
   "metadata": {}
  }
 ],
 "metadata": {
  "orig_nbformat": 4,
  "language_info": {
   "name": "python"
  }
 },
 "nbformat": 4,
 "nbformat_minor": 2
}